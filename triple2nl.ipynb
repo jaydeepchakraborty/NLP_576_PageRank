{
 "cells": [
  {
   "cell_type": "code",
   "execution_count": 1,
   "metadata": {
    "collapsed": true
   },
   "outputs": [],
   "source": [
    "import pandas as pd\n",
    "import numpy as np\n",
    "from SPARQLWrapper import SPARQLWrapper, JSON\n",
    "import nltk"
   ]
  },
  {
   "cell_type": "code",
   "execution_count": 2,
   "metadata": {
    "collapsed": true
   },
   "outputs": [],
   "source": [
    "URI = 'http://dbkwik.webdatacommons.org/HarryPotter/resource/Harry_Potter'\n",
    "# URI = 'http://dbkwik.webdatacommons.org/Game_of_Thrones_Wik/resource/Daenerys_Targaryen'"
   ]
  },
  {
   "cell_type": "code",
   "execution_count": 3,
   "metadata": {
    "scrolled": false
   },
   "outputs": [
    {
     "name": "stdout",
     "output_type": "stream",
     "text": [
      "SELECT (group_concat(?type;separator='|') as ?types) ?name ?gender ?dbr WHERE {        \n",
      "        # Get Types of URI\n",
      "        <http://dbkwik.webdatacommons.org/HarryPotter/resource/Harry_Potter> rdf:type ?type .\n",
      "        FILTER(contains(str(?type), 'http://dbkwik.webdatacommons.org/HarryPotter/ontology')) .\n",
      "        \n",
      "        # Get English label of URI\n",
      "        OPTIONAL { <http://dbkwik.webdatacommons.org/HarryPotter/resource/Harry_Potter> <http://dbkwik.webdatacommons.org/HarryPotter/property/name> ?name . FILTER(lang(?name)='en') . }\n",
      "        OPTIONAL { <http://dbkwik.webdatacommons.org/HarryPotter/resource/Harry_Potter> <http://www.w3.org/2004/02/skos/core#prefLabel> ?name . FILTER(lang(?name)='en') . }\n",
      "                \n",
      "        # Try to get gender\n",
      "        OPTIONAL { <http://dbkwik.webdatacommons.org/HarryPotter/resource/Harry_Potter> <http://dbkwik.webdatacommons.org/HarryPotter/property/gender> ?gender . }\n",
      "        \n",
      "        # Try to get corresponding DBpedia Resource\n",
      "        OPTIONAL { <http://dbkwik.webdatacommons.org/HarryPotter/resource/Harry_Potter> owl:sameAs ?dbr . }\n",
      "    }\n",
      "    \n",
      "{'types': {'type': 'literal', 'value': 'http://dbkwik.webdatacommons.org/HarryPotter/ontology/Actor|http://dbkwik.webdatacommons.org/HarryPotter/ontology/Agent|http://dbkwik.webdatacommons.org/HarryPotter/ontology/Artist|http://dbkwik.webdatacommons.org/HarryPotter/ontology/Person'}, 'name': {'type': 'literal', 'xml:lang': 'en', 'value': 'Harry James Potter'}, 'gender': {'type': 'literal', 'xml:lang': 'en', 'value': 'Male'}, 'dbr': {'type': 'uri', 'value': 'http://dbpedia.org/resource/Harry_Potter'}}\n"
     ]
    },
    {
     "data": {
      "text/plain": [
       "{'dbr': 'http://dbpedia.org/resource/Harry_Potter',\n",
       " 'gender': 'Male',\n",
       " 'name': 'Harry James Potter',\n",
       " 'types': 'http://dbkwik.webdatacommons.org/HarryPotter/ontology/Actor|http://dbkwik.webdatacommons.org/HarryPotter/ontology/Agent|http://dbkwik.webdatacommons.org/HarryPotter/ontology/Artist|http://dbkwik.webdatacommons.org/HarryPotter/ontology/Person'}"
      ]
     },
     "execution_count": 3,
     "metadata": {},
     "output_type": "execute_result"
    }
   ],
   "source": [
    "def get_basic_info(URI):\n",
    "    wiki = URI.split('/')[3]\n",
    "    ontology_namespace = \"http://dbkwik.webdatacommons.org/\" + wiki + \"/ontology\"\n",
    "    property_namespace = \"http://dbkwik.webdatacommons.org/\" + wiki + \"/property\"\n",
    "    \n",
    "    sparql = SPARQLWrapper(\"http://dbkwik.webdatacommons.org/sparql\")\n",
    "    query = (\"\"\"SELECT (group_concat(?type;separator='|') as ?types) ?name ?gender ?dbr WHERE {        \n",
    "        # Get Types of URI\n",
    "        <\"\"\" + URI + \"\"\"> rdf:type ?type .\n",
    "        FILTER(contains(str(?type), '\"\"\" + ontology_namespace + \"\"\"')) .\n",
    "        \n",
    "        # Get English label of URI\n",
    "        OPTIONAL { <\"\"\" + URI + \"\"\"> <\"\"\" + property_namespace + \"\"\"/name> ?name . FILTER(lang(?name)='en') . }\n",
    "        OPTIONAL { <\"\"\" + URI + \"\"\"> <http://www.w3.org/2004/02/skos/core#prefLabel> ?name . FILTER(lang(?name)='en') . }\n",
    "                \n",
    "        # Try to get gender\n",
    "        OPTIONAL { <\"\"\" + URI + \"\"\"> <\"\"\" + property_namespace + \"\"\"/gender> ?gender . }\n",
    "        \n",
    "        # Try to get corresponding DBpedia Resource\n",
    "        OPTIONAL { <\"\"\" + URI + \"\"\"> owl:sameAs ?dbr . }\n",
    "    }\n",
    "    \"\"\")\n",
    "    print(query)\n",
    "    \n",
    "    sparql.setQuery(query)\n",
    "    sparql.setReturnFormat(JSON)\n",
    "    results = sparql.query().convert()\n",
    "    \n",
    "    output = {}\n",
    "    for result in results[\"results\"][\"bindings\"]:\n",
    "        print(result)\n",
    "        output = {\n",
    "            'types': result['types']['value'],            \n",
    "            'dbr': result['dbr']['value']\n",
    "        }\n",
    "        \n",
    "        if 'name'in result:\n",
    "            output['name'] = result['name']['value']\n",
    "        if 'gender' in result:\n",
    "            output['gender'] = result['gender']['value']\n",
    "        break\n",
    "        \n",
    "    return output\n",
    "\n",
    "\n",
    "get_basic_info(URI)"
   ]
  },
  {
   "cell_type": "code",
   "execution_count": 6,
   "metadata": {
    "scrolled": false
   },
   "outputs": [
    {
     "name": "stdout",
     "output_type": "stream",
     "text": [
      "SELECT ?predicate (group_concat(distinct ?resource; separator=\"|\") as ?resources) (AVG(?rank) as ?ranks)\n",
      "        WHERE {\n",
      "          {\n",
      "            # URI - Predicate - Resource\n",
      "            select ?predicate ?resource ?rank {\n",
      "            <http://dbkwik.webdatacommons.org/HarryPotter/resource/Harry_Potter> ?predicate ?resource .\n",
      "            ?resource <http://purl.org/voc/vrank#pagerank> ?rank .\n",
      "            }\n",
      "          }\n",
      "          UNION\n",
      "          {\n",
      "            # Resource - Predicate - URI\n",
      "            select ?predicate ?resource ?rank {\n",
      "            ?resource ?predicate <http://dbkwik.webdatacommons.org/HarryPotter/resource/Harry_Potter> .\n",
      "            ?resource <http://purl.org/voc/vrank#pagerank> ?rank .\n",
      "            }\n",
      "          }\n",
      "\n",
      "          FILTER (?predicate NOT IN (<http://www.w3.org/1999/02/22-rdf-syntax-ns#type>, \n",
      "                <http://purl.org/dc/terms/subject>, \n",
      "                <http://xmlns.com/foaf/0.1/depiction>, \n",
      "                <http://www.w3.org/2002/07/owl#sameAs>, \n",
      "                <http://dbkwik.webdatacommons.org/HarryPotter/ontology/thumbnail>, \n",
      "                <http://dbkwik.webdatacommons.org/HarryPotter/property/predecessor>,\n",
      "                <http://dbkwik.webdatacommons.org/HarryPotter/property/successor>, \n",
      "                <http://xmlns.com/foaf/0.1/isPrimaryTopicOf>, \n",
      "                <http://xmlns.com/foaf/0.1/primaryTopic>)).\n",
      "        } GROUP BY ?predicate ?ranks ORDER BY DESC(?ranks)\n",
      "        LIMIT 10\n",
      "    \n"
     ]
    },
    {
     "data": {
      "text/plain": [
       "[{'predicate': 'http://dbkwik.webdatacommons.org/HarryPotter/property/species',\n",
       "  'ranks': '39.11966390386006e0',\n",
       "  'resources': 'http://dbkwik.webdatacommons.org/HarryPotter/resource/Human'},\n",
       " {'predicate': 'http://dbkwik.webdatacommons.org/HarryPotter/property/born',\n",
       "  'ranks': '9.022693502101427e0',\n",
       "  'resources': \"http://dbkwik.webdatacommons.org/HarryPotter/resource/England|http://dbkwik.webdatacommons.org/HarryPotter/resource/Great_Britain|http://dbkwik.webdatacommons.org/HarryPotter/resource/Godric's_Hollow|http://dbkwik.webdatacommons.org/HarryPotter/resource/West_Country\"},\n",
       " {'predicate': 'http://dbkwik.webdatacommons.org/HarryPotter/property/house',\n",
       "  'ranks': '4.791282557190195e0',\n",
       "  'resources': 'http://dbkwik.webdatacommons.org/HarryPotter/resource/Gryffindor'},\n",
       " {'predicate': 'http://dbkwik.webdatacommons.org/HarryPotter/property/blood',\n",
       "  'ranks': '0.9664948751490945e0',\n",
       "  'resources': 'http://dbkwik.webdatacommons.org/HarryPotter/resource/Half-blood'},\n",
       " {'predicate': 'http://dbkwik.webdatacommons.org/HarryPotter/property/patronus',\n",
       "  'ranks': '0.20668259730062144e0',\n",
       "  'resources': 'http://dbkwik.webdatacommons.org/HarryPotter/resource/Deer'},\n",
       " {'predicate': 'http://dbkwik.webdatacommons.org/HarryPotter/property/boggart',\n",
       "  'ranks': '0.20428402154730574e0',\n",
       "  'resources': 'http://dbkwik.webdatacommons.org/HarryPotter/resource/Dementor'},\n",
       " {'predicate': 'http://dbkwik.webdatacommons.org/HarryPotter/property/combatants',\n",
       "  'ranks': '0.20115820851772992e0',\n",
       "  'resources': 'http://dbkwik.webdatacommons.org/HarryPotter/resource/Second_skirmish_at_the_Cave'},\n",
       " {'predicate': 'http://dbkwik.webdatacommons.org/HarryPotter/property/commander',\n",
       "  'ranks': '0.18254633769135717e0',\n",
       "  'resources': \"http://dbkwik.webdatacommons.org/HarryPotter/resource/Attack_at_Godric's_Hollow_(1997)|http://dbkwik.webdatacommons.org/HarryPotter/resource/Attack_at_the_Great_Lake|http://dbkwik.webdatacommons.org/HarryPotter/resource/Attack_in_the_Underground_Chambers|http://dbkwik.webdatacommons.org/HarryPotter/resource/Skirmish_in_the_Chamber_of_Secrets|http://dbkwik.webdatacommons.org/HarryPotter/resource/Return_of_Lord_Voldemort|http://dbkwik.webdatacommons.org/HarryPotter/resource/Voldemort's_Last_Stand|http://dbkwik.webdatacommons.org/HarryPotter/resource/Skirmish_at_the_Room_of_Requirement|http://dbkwik.webdatacommons.org/HarryPotter/resource/Skirmish_in_Aragog's_Hollow\"},\n",
       " {'predicate': 'http://dbkwik.webdatacommons.org/HarryPotter/property/harrypotterrole',\n",
       "  'ranks': '0.17402106227106226e0',\n",
       "  'resources': 'http://dbkwik.webdatacommons.org/HarryPotter/resource/Adam_Sopp|http://dbkwik.webdatacommons.org/HarryPotter/resource/Daniel_Larner|http://dbkwik.webdatacommons.org/HarryPotter/resource/Daniel_Radcliffe|http://dbkwik.webdatacommons.org/HarryPotter/resource/Toby_Papworth|http://dbkwik.webdatacommons.org/HarryPotter/resource/Tom_Attenborough'},\n",
       " {'predicate': 'http://dbkwik.webdatacommons.org/HarryPotter/property/owners',\n",
       "  'ranks': '0.1544476744186047e0',\n",
       "  'resources': \"http://dbkwik.webdatacommons.org/HarryPotter/resource/Broom_Battler_Badge|http://dbkwik.webdatacommons.org/HarryPotter/resource/Broomstick_Servicing_Kit|http://dbkwik.webdatacommons.org/HarryPotter/resource/Class_list|http://dbkwik.webdatacommons.org/HarryPotter/resource/Colour-Change_Ink|http://dbkwik.webdatacommons.org/HarryPotter/resource/Combo_Flyer_Badge|http://dbkwik.webdatacommons.org/HarryPotter/resource/Crossfire_Badge|http://dbkwik.webdatacommons.org/HarryPotter/resource/Defender_Badge|http://dbkwik.webdatacommons.org/HarryPotter/resource/Dobby's_painting_of_Harry_Potter|http://dbkwik.webdatacommons.org/HarryPotter/resource/Dodger_Badge|http://dbkwik.webdatacommons.org/HarryPotter/resource/Duelling_Veteran_Badge|http://dbkwik.webdatacommons.org/HarryPotter/resource/Endurance_Badge|http://dbkwik.webdatacommons.org/HarryPotter/resource/Furry_brown_wallet|http://dbkwik.webdatacommons.org/HarryPotter/resource/Grounded_Badge|http://dbkwik.webdatacommons.org/HarryPotter/resource/Grow-Your-Own-Warts_kit|http://dbkwik.webdatacommons.org/HarryPotter/resource/Harry_Potter's_Firebolt|http://dbkwik.webdatacommons.org/HarryPotter/resource/Harry_Potter's_Nimbus_2000|http://dbkwik.webdatacommons.org/HarryPotter/resource/Harry_Potter's_car|http://dbkwik.webdatacommons.org/HarryPotter/resource/Harry_Potter's_dress_robes|http://dbkwik.webdatacommons.org/HarryPotter/resource/Harry_Potter's_photo_album|http://dbkwik.webdatacommons.org/HarryPotter/resource/Harry_Potter's_scars|http://dbkwik.webdatacommons.org/HarryPotter/resource/Harry_Potter's_schoolbag|http://dbkwik.webdatacommons.org/HarryPotter/resource/Herb_list|http://dbkwik.webdatacommons.org/HarryPotter/resource/Keen_Duellist_Badge|http://dbkwik.webdatacommons.org/HarryPotter/resource/Keen_Flyer_Badge|http://dbkwik.webdatacommons.org/HarryPotter/resource/Last_Gasp_Badge|http://dbkwik.webdatacommons.org/HarryPotter/resource/Master_Duellist_Badge|http://dbkwik.webdatacommons.org/HarryPotter/resource/Master_Potioneer_Badge|http://dbkwik.webdatacommons.org/HarryPotter/resource/Master_of_Flying_Badge|http://dbkwik.webdatacommons.org/HarryPotter/resource/Messiest_Mixer_Badge|http://dbkwik.webdatacommons.org/HarryPotter/resource/Model_of_a_Firebolt|http://dbkwik.webdatacommons.org/HarryPotter/resource/Nimbus_2000|http://dbkwik.webdatacommons.org/HarryPotter/resource/Nine_Lives_Badge|http://dbkwik.webdatacommons.org/HarryPotter/resource/Non-explodable,_luminous_balloons|http://dbkwik.webdatacommons.org/HarryPotter/resource/Persistence_Badge_(Duelling_Club)|http://dbkwik.webdatacommons.org/HarryPotter/resource/Persistence_Badge_(Quidditch)|http://dbkwik.webdatacommons.org/HarryPotter/resource/Potions_Club_Star_Badge|http://dbkwik.webdatacommons.org/HarryPotter/resource/Potions_Club_Veteran_Badge|http://dbkwik.webdatacommons.org/HarryPotter/resource/Potions_Endurance_Badge|http://dbkwik.webdatacommons.org/HarryPotter/resource/Precision_Flyer_Badge|http://dbkwik.webdatacommons.org/HarryPotter/resource/Quidditch_Beginner's_Luck_Badge|http://dbkwik.webdatacommons.org/HarryPotter/resource/Reflex_Badge|http://dbkwik.webdatacommons.org/HarryPotter/resource/Smoky_Brewer_Badge|http://dbkwik.webdatacommons.org/HarryPotter/resource/Speedy_Brewer_Badge\"}]"
      ]
     },
     "execution_count": 6,
     "metadata": {},
     "output_type": "execute_result"
    }
   ],
   "source": [
    "def get_top_k_triples(URI, k):\n",
    "    wiki = URI.split('/')[3]\n",
    "    ontology_namespace = \"http://dbkwik.webdatacommons.org/\" + wiki + \"/ontology\"\n",
    "    property_namespace = \"http://dbkwik.webdatacommons.org/\" + wiki + \"/property\"\n",
    "    \n",
    "    sparql = SPARQLWrapper(\"http://ec2-18-219-186-206.us-east-2.compute.amazonaws.com:3030/dbkwik/query\")\n",
    "    query = (\"\"\"SELECT ?predicate (group_concat(distinct ?resource; separator=\"|\") as ?resources) (AVG(?rank) as ?ranks)\n",
    "        WHERE {\n",
    "          {\n",
    "            # URI - Predicate - Resource\n",
    "            select ?predicate ?resource ?rank {\n",
    "            <\"\"\" + URI + \"\"\"> ?predicate ?resource .\n",
    "            ?resource <http://purl.org/voc/vrank#pagerank> ?rank .\n",
    "            }\n",
    "          }\n",
    "          UNION\n",
    "          {\n",
    "            # Resource - Predicate - URI\n",
    "            select ?predicate ?resource ?rank {\n",
    "            ?resource ?predicate <\"\"\" + URI + \"\"\"> .\n",
    "            ?resource <http://purl.org/voc/vrank#pagerank> ?rank .\n",
    "            }\n",
    "          }\n",
    "\n",
    "          FILTER (?predicate NOT IN (<http://www.w3.org/1999/02/22-rdf-syntax-ns#type>, \n",
    "                <http://purl.org/dc/terms/subject>, \n",
    "                <http://xmlns.com/foaf/0.1/depiction>, \n",
    "                <http://www.w3.org/2002/07/owl#sameAs>, \n",
    "                <\"\"\" + ontology_namespace + \"\"\"/thumbnail>, \n",
    "                <\"\"\" + property_namespace + \"\"\"/predecessor>,\n",
    "                <\"\"\" + property_namespace + \"\"\"/successor>, \n",
    "                <http://xmlns.com/foaf/0.1/isPrimaryTopicOf>, \n",
    "                <http://xmlns.com/foaf/0.1/primaryTopic>)).\n",
    "        } GROUP BY ?predicate ?ranks ORDER BY DESC(?ranks)\n",
    "        LIMIT \"\"\" + str(k) + \"\"\"\n",
    "    \"\"\")\n",
    "    \n",
    "    print(query)\n",
    "    \n",
    "    sparql.setQuery(query)\n",
    "    sparql.setReturnFormat(JSON)\n",
    "    results = sparql.query().convert()\n",
    "    \n",
    "    output = []\n",
    "    for result in results[\"results\"][\"bindings\"]:\n",
    "        obj = {\n",
    "            'predicate': result['predicate']['value'],\n",
    "            'resources': result['resources']['value'],\n",
    "            'ranks': result['ranks']['value']\n",
    "        }\n",
    "        \n",
    "        output.append(obj)        \n",
    "    return output\n",
    "\n",
    "get_top_k_triples(URI, 10)"
   ]
  },
  {
   "cell_type": "code",
   "execution_count": null,
   "metadata": {
    "collapsed": true
   },
   "outputs": [],
   "source": []
  }
 ],
 "metadata": {
  "kernelspec": {
   "display_name": "Python 3",
   "language": "python",
   "name": "python3"
  },
  "language_info": {
   "codemirror_mode": {
    "name": "ipython",
    "version": 3
   },
   "file_extension": ".py",
   "mimetype": "text/x-python",
   "name": "python",
   "nbconvert_exporter": "python",
   "pygments_lexer": "ipython3",
   "version": "3.6.2"
  }
 },
 "nbformat": 4,
 "nbformat_minor": 2
}
