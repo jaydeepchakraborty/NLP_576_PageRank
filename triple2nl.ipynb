{
 "cells": [
  {
   "cell_type": "code",
   "execution_count": 2,
   "metadata": {
    "collapsed": true
   },
   "outputs": [],
   "source": [
    "import pandas as pd\n",
    "import numpy as np\n",
    "from SPARQLWrapper import SPARQLWrapper, JSON\n",
    "import nltk"
   ]
  },
  {
   "cell_type": "code",
   "execution_count": 69,
   "metadata": {
    "collapsed": true
   },
   "outputs": [],
   "source": [
    "URI = 'http://dbkwik.webdatacommons.org/HarryPotter/resource/Harry_Potter'\n",
    "URI = 'http://dbkwik.webdatacommons.org/Game_of_Thrones_Wik/resource/Daenerys_Targaryen'"
   ]
  },
  {
   "cell_type": "code",
   "execution_count": 70,
   "metadata": {
    "scrolled": false
   },
   "outputs": [
    {
     "name": "stdout",
     "output_type": "stream",
     "text": [
      "SELECT (group_concat(?type;separator='|') as ?types) ?name ?gender ?dbr WHERE {        \n",
      "        # Get Types of URI\n",
      "        <http://dbkwik.webdatacommons.org/Game_of_Thrones_Wik/resource/Daenerys_Targaryen> rdf:type ?type .\n",
      "        FILTER(contains(str(?type), 'http://dbkwik.webdatacommons.org/Game_of_Thrones_Wik/ontology')) .\n",
      "        \n",
      "        # Get English label of URI\n",
      "        OPTIONAL { <http://dbkwik.webdatacommons.org/Game_of_Thrones_Wik/resource/Daenerys_Targaryen> <http://dbkwik.webdatacommons.org/Game_of_Thrones_Wik/property/name> ?name . FILTER(lang(?name)='en') . }\n",
      "        OPTIONAL { <http://dbkwik.webdatacommons.org/Game_of_Thrones_Wik/resource/Daenerys_Targaryen> <http://www.w3.org/2004/02/skos/core#prefLabel> ?name . FILTER(lang(?name)='en') . }\n",
      "                \n",
      "        # Try to get gender\n",
      "        OPTIONAL { <http://dbkwik.webdatacommons.org/Game_of_Thrones_Wik/resource/Daenerys_Targaryen> <http://dbkwik.webdatacommons.org/Game_of_Thrones_Wik/property/gender> ?gender . }\n",
      "        \n",
      "        # Try to get corresponding DBpedia Resource\n",
      "        OPTIONAL { <http://dbkwik.webdatacommons.org/Game_of_Thrones_Wik/resource/Daenerys_Targaryen> owl:sameAs ?dbr . }\n",
      "    }\n",
      "    \n",
      "{'types': {'type': 'literal', 'value': 'http://dbkwik.webdatacommons.org/Game_of_Thrones_Wik/ontology/Agent|http://dbkwik.webdatacommons.org/Game_of_Thrones_Wik/ontology/FictionalCharacter|http://dbkwik.webdatacommons.org/Game_of_Thrones_Wik/ontology/Person'}, 'name': {'type': 'literal', 'xml:lang': 'en', 'value': 'Daenerys Targaryen'}, 'dbr': {'type': 'uri', 'value': 'http://dbpedia.org/resource/Daenerys_Targaryen'}}\n"
     ]
    },
    {
     "data": {
      "text/plain": [
       "{'dbr': 'http://dbpedia.org/resource/Daenerys_Targaryen',\n",
       " 'name': 'Daenerys Targaryen',\n",
       " 'types': 'http://dbkwik.webdatacommons.org/Game_of_Thrones_Wik/ontology/Agent|http://dbkwik.webdatacommons.org/Game_of_Thrones_Wik/ontology/FictionalCharacter|http://dbkwik.webdatacommons.org/Game_of_Thrones_Wik/ontology/Person'}"
      ]
     },
     "execution_count": 70,
     "metadata": {},
     "output_type": "execute_result"
    }
   ],
   "source": [
    "def get_basic_info(URI):\n",
    "    wiki = URI.split('/')[3]\n",
    "    ontology_namespace = \"http://dbkwik.webdatacommons.org/\" + wiki + \"/ontology\"\n",
    "    property_namespace = \"http://dbkwik.webdatacommons.org/\" + wiki + \"/property\"\n",
    "    \n",
    "    sparql = SPARQLWrapper(\"http://dbkwik.webdatacommons.org/sparql\")\n",
    "    query = (\"\"\"SELECT (group_concat(?type;separator='|') as ?types) ?name ?gender ?dbr WHERE {        \n",
    "        # Get Types of URI\n",
    "        <\"\"\" + URI + \"\"\"> rdf:type ?type .\n",
    "        FILTER(contains(str(?type), '\"\"\" + ontology_namespace + \"\"\"')) .\n",
    "        \n",
    "        # Get English label of URI\n",
    "        OPTIONAL { <\"\"\" + URI + \"\"\"> <\"\"\" + property_namespace + \"\"\"/name> ?name . FILTER(lang(?name)='en') . }\n",
    "        OPTIONAL { <\"\"\" + URI + \"\"\"> <http://www.w3.org/2004/02/skos/core#prefLabel> ?name . FILTER(lang(?name)='en') . }\n",
    "                \n",
    "        # Try to get gender\n",
    "        OPTIONAL { <\"\"\" + URI + \"\"\"> <\"\"\" + property_namespace + \"\"\"/gender> ?gender . }\n",
    "        \n",
    "        # Try to get corresponding DBpedia Resource\n",
    "        OPTIONAL { <\"\"\" + URI + \"\"\"> owl:sameAs ?dbr . }\n",
    "    }\n",
    "    \"\"\")\n",
    "    print(query)\n",
    "    \n",
    "    sparql.setQuery(query)\n",
    "    sparql.setReturnFormat(JSON)\n",
    "    results = sparql.query().convert()\n",
    "    \n",
    "    output = {}\n",
    "    for result in results[\"results\"][\"bindings\"]:\n",
    "        print(result)\n",
    "        output = {\n",
    "            'types': result['types']['value'],            \n",
    "            'dbr': result['dbr']['value']\n",
    "        }\n",
    "        \n",
    "        if 'name'in result:\n",
    "            output['name'] = result['name']['value']\n",
    "        if 'gender' in result:\n",
    "            output['gender'] = result['gender']['value']\n",
    "        break\n",
    "        \n",
    "    return output\n",
    "\n",
    "\n",
    "get_basic_info(URI)"
   ]
  },
  {
   "cell_type": "code",
   "execution_count": 74,
   "metadata": {
    "scrolled": false
   },
   "outputs": [
    {
     "name": "stdout",
     "output_type": "stream",
     "text": [
      "SELECT ?predicate (group_concat(distinct ?resource; separator=\"|\") as ?resources) (AVG(?rank) as ?ranks)\n",
      "        WHERE {\n",
      "          {\n",
      "            select ?predicate ?resource ?rank {\n",
      "            <http://dbkwik.webdatacommons.org/Game_of_Thrones_Wik/resource/Daenerys_Targaryen> ?predicate ?resource .\n",
      "            ?resource <http://purl.org/voc/vrank#pagerank> ?rank .\n",
      "            }\n",
      "          }\n",
      "          UNION\n",
      "          {\n",
      "            select ?predicate ?resource ?rank {\n",
      "            ?resource ?predicate <http://dbkwik.webdatacommons.org/Game_of_Thrones_Wik/resource/Daenerys_Targaryen> .\n",
      "            ?resource <http://purl.org/voc/vrank#pagerank> ?rank .\n",
      "            }\n",
      "          }\n",
      "\n",
      "          FILTER (?predicate NOT IN (<http://www.w3.org/1999/02/22-rdf-syntax-ns#type>, \n",
      "                <http://purl.org/dc/terms/subject>, \n",
      "                <http://xmlns.com/foaf/0.1/depiction>, \n",
      "                <http://www.w3.org/2002/07/owl#sameAs>, \n",
      "                <http://dbkwik.webdatacommons.org/Game_of_Thrones_Wik/ontology/thumbnail>, \n",
      "                <http://dbkwik.webdatacommons.org/Game_of_Thrones_Wik/property/predecessor>,\n",
      "                <http://dbkwik.webdatacommons.org/Game_of_Thrones_Wik/property/successor>, \n",
      "                <http://xmlns.com/foaf/0.1/isPrimaryTopicOf>, \n",
      "                <http://xmlns.com/foaf/0.1/primaryTopic>)).\n",
      "        } GROUP BY ?predicate ?ranks ORDER BY DESC(?ranks)\n",
      "        LIMIT 10\n",
      "    \n"
     ]
    },
    {
     "data": {
      "text/plain": [
       "[{'predicate': 'http://dbkwik.webdatacommons.org/Game_of_Thrones_Wik/property/status',\n",
       "  'ranks': '26396.117082796845e0',\n",
       "  'resources': 'http://dbkwik.webdatacommons.org/Game_of_Thrones_Wik/resource/Category:Status:_Alive'},\n",
       " {'predicate': 'http://dbkwik.webdatacommons.org/Game_of_Thrones_Wik/property/culture',\n",
       "  'ranks': '2430.0486329531254e0',\n",
       "  'resources': 'http://dbkwik.webdatacommons.org/Game_of_Thrones_Wik/resource/Valyrians'},\n",
       " {'predicate': 'http://dbkwik.webdatacommons.org/Game_of_Thrones_Wik/property/rulers',\n",
       "  'ranks': '2241.9388447968754e0',\n",
       "  'resources': 'http://dbkwik.webdatacommons.org/Game_of_Thrones_Wik/resource/Great_Pyramid'},\n",
       " {'predicate': 'http://dbkwik.webdatacommons.org/Game_of_Thrones_Wik/property/aka',\n",
       "  'ranks': '784.2969714375001e0',\n",
       "  'resources': 'http://dbkwik.webdatacommons.org/Game_of_Thrones_Wik/resource/The_Prince_That_Was_Promised'},\n",
       " {'predicate': 'http://dbkwik.webdatacommons.org/Game_of_Thrones_Wik/property/allegiance',\n",
       "  'ranks': '650.462948144531e0',\n",
       "  'resources': \"http://dbkwik.webdatacommons.org/Game_of_Thrones_Wik/resource/House_Targaryen|http://dbkwik.webdatacommons.org/Game_of_Thrones_Wik/resource/Drogon|http://dbkwik.webdatacommons.org/Game_of_Thrones_Wik/resource/Yunkai'i_slave_4|http://dbkwik.webdatacommons.org/Game_of_Thrones_Wik/resource/Unsullied|http://dbkwik.webdatacommons.org/Game_of_Thrones_Wik/resource/Ornela|http://dbkwik.webdatacommons.org/Game_of_Thrones_Wik/resource/Yunkai'i_slave_3|http://dbkwik.webdatacommons.org/Game_of_Thrones_Wik/resource/Yunkai'i_slave_1|http://dbkwik.webdatacommons.org/Game_of_Thrones_Wik/resource/Yunkai'i_slave_5|http://dbkwik.webdatacommons.org/Game_of_Thrones_Wik/resource/Yunkai'i_slave_6|http://dbkwik.webdatacommons.org/Game_of_Thrones_Wik/resource/Rhaegal|http://dbkwik.webdatacommons.org/Game_of_Thrones_Wik/resource/Yunkai'i_slave_2|http://dbkwik.webdatacommons.org/Game_of_Thrones_Wik/resource/Viserion\"},\n",
       " {'predicate': 'http://dbkwik.webdatacommons.org/Game_of_Thrones_Wik/property/leader',\n",
       "  'ranks': '262.2058914374999e0',\n",
       "  'resources': 'http://dbkwik.webdatacommons.org/Game_of_Thrones_Wik/resource/Astapori_ruling_council'},\n",
       " {'predicate': 'http://dbkwik.webdatacommons.org/Game_of_Thrones_Wik/property/actor',\n",
       "  'ranks': '147.39978346875003e0',\n",
       "  'resources': 'http://dbkwik.webdatacommons.org/Game_of_Thrones_Wik/resource/Emilia_Clarke'},\n",
       " {'predicate': 'http://dbkwik.webdatacommons.org/Game_of_Thrones_Wik/property/role',\n",
       "  'ranks': '74.01131697656251e0',\n",
       "  'resources': 'http://dbkwik.webdatacommons.org/Game_of_Thrones_Wik/resource/Emilia_Clarke|http://dbkwik.webdatacommons.org/Game_of_Thrones_Wik/resource/Tamzin_Merchant'},\n",
       " {'predicate': 'http://dbkwik.webdatacommons.org/Game_of_Thrones_Wik/property/children',\n",
       "  'ranks': '28.22650565624999e0',\n",
       "  'resources': 'http://dbkwik.webdatacommons.org/Game_of_Thrones_Wik/resource/Aerys_II_Targaryen|http://dbkwik.webdatacommons.org/Game_of_Thrones_Wik/resource/Rhaella_Targaryen'},\n",
       " {'predicate': 'http://dbkwik.webdatacommons.org/Game_of_Thrones_Wik/property/spouse',\n",
       "  'ranks': '13.104254203124999e0',\n",
       "  'resources': 'http://dbkwik.webdatacommons.org/Game_of_Thrones_Wik/resource/Drogo'}]"
      ]
     },
     "execution_count": 74,
     "metadata": {},
     "output_type": "execute_result"
    }
   ],
   "source": [
    "def get_top_k_triples(URI, k):\n",
    "    wiki = URI.split('/')[3]\n",
    "    ontology_namespace = \"http://dbkwik.webdatacommons.org/\" + wiki + \"/ontology\"\n",
    "    property_namespace = \"http://dbkwik.webdatacommons.org/\" + wiki + \"/property\"\n",
    "    \n",
    "    sparql = SPARQLWrapper(\"http://ec2-18-219-186-206.us-east-2.compute.amazonaws.com:3030/dbkwik_data/query\")\n",
    "    query = (\"\"\"SELECT ?predicate (group_concat(distinct ?resource; separator=\"|\") as ?resources) (AVG(?rank) as ?ranks)\n",
    "        WHERE {\n",
    "          {\n",
    "            select ?predicate ?resource ?rank {\n",
    "            <\"\"\" + URI + \"\"\"> ?predicate ?resource .\n",
    "            ?resource <http://purl.org/voc/vrank#pagerank> ?rank .\n",
    "            }\n",
    "          }\n",
    "          UNION\n",
    "          {\n",
    "            select ?predicate ?resource ?rank {\n",
    "            ?resource ?predicate <\"\"\" + URI + \"\"\"> .\n",
    "            ?resource <http://purl.org/voc/vrank#pagerank> ?rank .\n",
    "            }\n",
    "          }\n",
    "\n",
    "          FILTER (?predicate NOT IN (<http://www.w3.org/1999/02/22-rdf-syntax-ns#type>, \n",
    "                <http://purl.org/dc/terms/subject>, \n",
    "                <http://xmlns.com/foaf/0.1/depiction>, \n",
    "                <http://www.w3.org/2002/07/owl#sameAs>, \n",
    "                <\"\"\" + ontology_namespace + \"\"\"/thumbnail>, \n",
    "                <\"\"\" + property_namespace + \"\"\"/predecessor>,\n",
    "                <\"\"\" + property_namespace + \"\"\"/successor>, \n",
    "                <http://xmlns.com/foaf/0.1/isPrimaryTopicOf>, \n",
    "                <http://xmlns.com/foaf/0.1/primaryTopic>)).\n",
    "        } GROUP BY ?predicate ?ranks ORDER BY DESC(?ranks)\n",
    "        LIMIT \"\"\" + str(k) + \"\"\"\n",
    "    \"\"\")\n",
    "    \n",
    "    print(query)\n",
    "    \n",
    "    sparql.setQuery(query)\n",
    "    sparql.setReturnFormat(JSON)\n",
    "    results = sparql.query().convert()\n",
    "    \n",
    "    output = []\n",
    "    for result in results[\"results\"][\"bindings\"]:\n",
    "        obj = {\n",
    "            'predicate': result['predicate']['value'],\n",
    "            'resources': result['resources']['value'],\n",
    "            'ranks': result['ranks']['value']\n",
    "        }\n",
    "        \n",
    "        output.append(obj)        \n",
    "    return output\n",
    "\n",
    "get_top_k_triples(URI, 10)"
   ]
  },
  {
   "cell_type": "code",
   "execution_count": null,
   "metadata": {
    "collapsed": true
   },
   "outputs": [],
   "source": []
  }
 ],
 "metadata": {
  "kernelspec": {
   "display_name": "Python 3",
   "language": "python",
   "name": "python3"
  },
  "language_info": {
   "codemirror_mode": {
    "name": "ipython",
    "version": 3
   },
   "file_extension": ".py",
   "mimetype": "text/x-python",
   "name": "python",
   "nbconvert_exporter": "python",
   "pygments_lexer": "ipython3",
   "version": "3.6.2"
  }
 },
 "nbformat": 4,
 "nbformat_minor": 2
}
