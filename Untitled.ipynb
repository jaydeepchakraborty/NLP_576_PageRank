{
 "cells": [
  {
   "cell_type": "code",
   "execution_count": 4,
   "metadata": {
    "collapsed": true
   },
   "outputs": [],
   "source": [
    "# https://pythonhosted.org/CouchDB/client.html\n",
    "import couchdb, sys, io\n",
    "couch = couchdb.Server(\"http://%s:%s@localhost:5984\" % ('admin', 'admin'))"
   ]
  },
  {
   "cell_type": "code",
   "execution_count": 7,
   "metadata": {
    "collapsed": true
   },
   "outputs": [],
   "source": [
    "object = [\n",
    "{\"id\":\"66f8b5708790b9e6204dcaa4ca3a3534\",\"key\":\"http://dbkwik.webdatacommons.org/Hey_Kids_Comics_Wik/resource/Kieron_Dwyer\",\"value\":\"http://dbkwik.webdatacommons.org/Hey_Kids_Comics_Wik/resource/Remains_(comics)\"},\n",
    "{\"id\":\"66f8b5708790b9e6204dcaa4ca3a400f\",\"key\":\"http://dbkwik.webdatacommons.org/Hey_Kids_Comics_Wik/resource/Kieron_Dwyer\",\"value\":\"http://dbkwik.webdatacommons.org/Hey_Kids_Comics_Wik/resource/Remains_(comics)\"},\n",
    "{\"id\":\"97b2fd91839be5a54c2c5427751ebabe\",\"key\":\"http://dbkwik.webdatacommons.org/Hey_Kids_Comics_Wik/resource/Kieron_Dwyer\",\"value\":\"http://dbkwik.webdatacommons.org/Hey_Kids_Comics_Wik/resource/Night_Mary\"},\n",
    "{\"id\":\"b7308d870d50bd6653832497342c2711\",\"key\":\"http://dbkwik.webdatacommons.org/Hey_Kids_Comics_Wik/resource/Kieron_Dwyer\",\"value\":\"http://en.wikipedia.org/wiki/Kieron_Dwyer\"}\n",
    "]"
   ]
  },
  {
   "cell_type": "code",
   "execution_count": 8,
   "metadata": {},
   "outputs": [
    {
     "name": "stdout",
     "output_type": "stream",
     "text": [
      "http://dbkwik.webdatacommons.org/Hey_Kids_Comics_Wik/resource/Remains_(comics)\n",
      "http://dbkwik.webdatacommons.org/Hey_Kids_Comics_Wik/resource/Remains_(comics)\n",
      "http://dbkwik.webdatacommons.org/Hey_Kids_Comics_Wik/resource/Night_Mary\n",
      "http://en.wikipedia.org/wiki/Kieron_Dwyer\n"
     ]
    }
   ],
   "source": [
    "for row in object:\n",
    "    print(row['value'])"
   ]
  },
  {
   "cell_type": "code",
   "execution_count": null,
   "metadata": {
    "collapsed": true
   },
   "outputs": [],
   "source": []
  }
 ],
 "metadata": {
  "kernelspec": {
   "display_name": "Python 3",
   "language": "python",
   "name": "python3"
  },
  "language_info": {
   "codemirror_mode": {
    "name": "ipython",
    "version": 3
   },
   "file_extension": ".py",
   "mimetype": "text/x-python",
   "name": "python",
   "nbconvert_exporter": "python",
   "pygments_lexer": "ipython3",
   "version": "3.6.2"
  }
 },
 "nbformat": 4,
 "nbformat_minor": 2
}
